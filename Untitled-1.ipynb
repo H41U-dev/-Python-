{
 "cells": [
  {
   "cell_type": "code",
   "execution_count": 2,
   "metadata": {},
   "outputs": [
    {
     "name": "stdout",
     "output_type": "stream",
     "text": [
      "Hello Ali Bnayat! Yoy have just delved into Python\n"
     ]
    }
   ],
   "source": [
    "name = input()\n",
    "surname = input()\n",
    "\n",
    "print(f'Hello {name} {surname}! You have just delved into Python')"
   ]
  },
  {
   "cell_type": "code",
   "execution_count": 4,
   "metadata": {},
   "outputs": [
    {
     "name": "stdout",
     "output_type": "stream",
     "text": [
      "Футбольная команда Спартак имеет длину 7 символов\n"
     ]
    }
   ],
   "source": [
    "football_team = input()\n",
    "\n",
    "print(f'Футбольная команда {football_team} имеет длину {len(football_team)} символов')"
   ]
  },
  {
   "cell_type": "code",
   "execution_count": 10,
   "metadata": {},
   "outputs": [
    {
     "name": "stdout",
     "output_type": "stream",
     "text": [
      "Москва\n",
      "Санкт-Петербург\n"
     ]
    }
   ],
   "source": [
    "\n",
    "city = []\n",
    "len_city = []\n",
    "\n",
    "ts = 0\n",
    "dummy = []\n",
    "\n",
    "while ts < 3:\n",
    "    city_n = input()\n",
    "    city.append(city_n)\n",
    "    len_city.append(len(city_n))\n",
    "    ts += 1\n",
    "dummy.append(len_city.index(min(len_city)))\n",
    "dummy.append(len_city.index(max(len_city)))\n",
    "\n",
    "\n",
    "for i in city:\n",
    "    if len(i) == min(len_city):\n",
    "        print(i)\n",
    "\n",
    "    else:\n",
    "        continue\n",
    "    \n",
    "for i in city:\n",
    "    if len(i) == max(len_city):\n",
    "        print(i)\n",
    "\n",
    "    else:\n",
    "        continue    \n",
    "    \n"
   ]
  }
 ],
 "metadata": {
  "kernelspec": {
   "display_name": "Python 3",
   "language": "python",
   "name": "python3"
  },
  "language_info": {
   "codemirror_mode": {
    "name": "ipython",
    "version": 3
   },
   "file_extension": ".py",
   "mimetype": "text/x-python",
   "name": "python",
   "nbconvert_exporter": "python",
   "pygments_lexer": "ipython3",
   "version": "3.10.11"
  }
 },
 "nbformat": 4,
 "nbformat_minor": 2
}
